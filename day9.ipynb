{
 "cells": [
  {
   "cell_type": "markdown",
   "id": "f093b1ef",
   "metadata": {},
   "source": [
    "# Day 9"
   ]
  },
  {
   "cell_type": "code",
   "execution_count": 48,
   "id": "bf47850a",
   "metadata": {},
   "outputs": [],
   "source": [
    "with open('day9.txt') as f:\n",
    "    array = []\n",
    "    for line in f: # read rest of lines\n",
    "        array.append([int(x) for x in line.split()])"
   ]
  },
  {
   "cell_type": "code",
   "execution_count": 2,
   "id": "30935409",
   "metadata": {},
   "outputs": [
    {
     "data": {
      "text/plain": [
       "[[0, 3, 6, 9, 12, 15], [1, 3, 6, 10, 15, 21], [10, 13, 16, 21, 30, 45]]"
      ]
     },
     "execution_count": 2,
     "metadata": {},
     "output_type": "execute_result"
    }
   ],
   "source": [
    "array"
   ]
  },
  {
   "cell_type": "code",
   "execution_count": 3,
   "id": "a8a25611",
   "metadata": {},
   "outputs": [],
   "source": [
    "import numpy as np"
   ]
  },
  {
   "cell_type": "code",
   "execution_count": 12,
   "id": "19cbfbbb",
   "metadata": {},
   "outputs": [
    {
     "data": {
      "text/plain": [
       "[1, 3, 6, 10, 15, 21]"
      ]
     },
     "execution_count": 12,
     "metadata": {},
     "output_type": "execute_result"
    }
   ],
   "source": [
    "np.diff(array[1],0)"
   ]
  },
  {
   "cell_type": "code",
   "execution_count": null,
   "id": "52050798",
   "metadata": {},
   "outputs": [],
   "source": []
  },
  {
   "cell_type": "code",
   "execution_count": 19,
   "id": "0056010b",
   "metadata": {},
   "outputs": [],
   "source": [
    "def finite_difference(row):\n",
    "    num_diffs=0\n",
    "    diffs=np.diff(row,num_diffs)[-1]\n",
    "\n",
    "    while np.any(np.diff(row,num_diffs)):\n",
    "        num_diffs+=1\n",
    "        diffs+=np.diff(row,num_diffs)[-1]\n",
    "    return diffs    \n",
    "    "
   ]
  },
  {
   "cell_type": "code",
   "execution_count": 49,
   "id": "53012512",
   "metadata": {},
   "outputs": [
    {
     "data": {
      "text/plain": [
       "925"
      ]
     },
     "execution_count": 49,
     "metadata": {},
     "output_type": "execute_result"
    }
   ],
   "source": [
    "sum(finite_difference_part2(x) for x in array)"
   ]
  },
  {
   "cell_type": "code",
   "execution_count": 43,
   "id": "b984e6db",
   "metadata": {},
   "outputs": [],
   "source": [
    "def finite_difference_part2(row):\n",
    "    if not np.any(np.diff(row,0)):\n",
    "        return 0\n",
    "    else:\n",
    "        return row[0]-1*finite_difference_part2(np.diff(row,1))\n"
   ]
  },
  {
   "cell_type": "code",
   "execution_count": 46,
   "id": "8e6c8593",
   "metadata": {},
   "outputs": [
    {
     "data": {
      "text/plain": [
       "-3"
      ]
     },
     "execution_count": 46,
     "metadata": {},
     "output_type": "execute_result"
    }
   ],
   "source": [
    "finite_difference_part2(array[0])"
   ]
  },
  {
   "cell_type": "code",
   "execution_count": null,
   "id": "ea6c1ae0",
   "metadata": {},
   "outputs": [],
   "source": []
  }
 ],
 "metadata": {
  "kernelspec": {
   "display_name": "Python 3",
   "language": "python",
   "name": "python3"
  },
  "language_info": {
   "codemirror_mode": {
    "name": "ipython",
    "version": 3
   },
   "file_extension": ".py",
   "mimetype": "text/x-python",
   "name": "python",
   "nbconvert_exporter": "python",
   "pygments_lexer": "ipython3",
   "version": "3.8.8"
  }
 },
 "nbformat": 4,
 "nbformat_minor": 5
}
