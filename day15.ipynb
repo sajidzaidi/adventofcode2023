{
 "cells": [
  {
   "cell_type": "code",
   "execution_count": 68,
   "id": "99658715",
   "metadata": {},
   "outputs": [],
   "source": [
    "with open(\"day15.txt\",\"r\") as f:\n",
    "    x=f.read().strip().split(',')"
   ]
  },
  {
   "cell_type": "code",
   "execution_count": 55,
   "id": "82d82525",
   "metadata": {},
   "outputs": [
    {
     "data": {
      "text/plain": [
       "['rn=1',\n",
       " 'cm-',\n",
       " 'qp=3',\n",
       " 'cm=2',\n",
       " 'qp-',\n",
       " 'pc=4',\n",
       " 'ot=9',\n",
       " 'ab=5',\n",
       " 'pc-',\n",
       " 'pc=6',\n",
       " 'ot=7']"
      ]
     },
     "execution_count": 55,
     "metadata": {},
     "output_type": "execute_result"
    }
   ],
   "source": [
    "x"
   ]
  },
  {
   "cell_type": "code",
   "execution_count": 28,
   "id": "04687124",
   "metadata": {},
   "outputs": [
    {
     "data": {
      "text/plain": [
       "'lrkxq-'"
      ]
     },
     "execution_count": 28,
     "metadata": {},
     "output_type": "execute_result"
    }
   ],
   "source": [
    "x[-1]"
   ]
  },
  {
   "cell_type": "code",
   "execution_count": 29,
   "id": "d4664af2",
   "metadata": {},
   "outputs": [
    {
     "data": {
      "text/plain": [
       "507769"
      ]
     },
     "execution_count": 29,
     "metadata": {},
     "output_type": "execute_result"
    }
   ],
   "source": [
    "sum(reduce( lambda a,b: (a+ord(b))*17 % 256 , code,0) for code in x)"
   ]
  },
  {
   "cell_type": "code",
   "execution_count": 7,
   "id": "811fe85d",
   "metadata": {},
   "outputs": [],
   "source": [
    "from functools import reduce"
   ]
  },
  {
   "cell_type": "code",
   "execution_count": 19,
   "id": "06894b5b",
   "metadata": {},
   "outputs": [
    {
     "data": {
      "text/plain": [
       "114"
      ]
     },
     "execution_count": 19,
     "metadata": {},
     "output_type": "execute_result"
    }
   ],
   "source": [
    "ord('r')"
   ]
  },
  {
   "cell_type": "code",
   "execution_count": 69,
   "id": "e68823c0",
   "metadata": {},
   "outputs": [],
   "source": [
    "boxes=dict()"
   ]
  },
  {
   "cell_type": "code",
   "execution_count": 35,
   "id": "a3f75b38",
   "metadata": {},
   "outputs": [],
   "source": [
    "hashmap= lambda code: reduce( lambda a,b: (a+ord(b))*17 % 256 , code,0)"
   ]
  },
  {
   "cell_type": "code",
   "execution_count": 70,
   "id": "c0404eb6",
   "metadata": {},
   "outputs": [],
   "source": [
    "for instr in x:\n",
    "    \n",
    "    if '-' in instr:\n",
    "        label = instr[:instr.index(\"-\")]\n",
    "        boxnum=hashmap(label)\n",
    "        if boxnum in boxes:\n",
    "            box=boxes[boxnum]\n",
    "            boxes[boxnum]=[item for item in box if not item.startswith(label)]\n",
    "    elif '=' in instr:\n",
    "        label = instr[:instr.index(\"=\")]\n",
    "        boxnum=hashmap(label)\n",
    "        if boxnum not in boxes:\n",
    "            boxes[boxnum]=[label + \" \" +instr[instr.index(\"=\")+1:]]\n",
    "        else:\n",
    "            \n",
    "            box=boxes[boxnum]\n",
    "            if any(l.startswith(label) for l in box):\n",
    "                box[min(box.index(l) for l in box if l.startswith(label))]=label + \" \" +instr[instr.index(\"=\")+1:]\n",
    "            else:\n",
    "                box.append(label + \" \" +instr[instr.index(\"=\")+1:])\n",
    "            boxes[boxnum]=box\n",
    "                \n",
    "        \n",
    "        \n",
    "        \n",
    "        \n",
    "    "
   ]
  },
  {
   "cell_type": "code",
   "execution_count": 71,
   "id": "284579d2",
   "metadata": {},
   "outputs": [],
   "source": [
    "total=0\n",
    "for key, val in boxes.items():\n",
    "    for i,lens in enumerate(val):\n",
    "        total+=(1+key)*(i+1)*int(lens[-1])\n"
   ]
  },
  {
   "cell_type": "code",
   "execution_count": 72,
   "id": "84300c53",
   "metadata": {},
   "outputs": [
    {
     "data": {
      "text/plain": [
       "269747"
      ]
     },
     "execution_count": 72,
     "metadata": {},
     "output_type": "execute_result"
    }
   ],
   "source": [
    "total"
   ]
  },
  {
   "cell_type": "code",
   "execution_count": 59,
   "id": "cdb2c467",
   "metadata": {},
   "outputs": [
    {
     "data": {
      "text/plain": [
       "{30: ['rn 1'],\n",
       " 97: ['qp 3'],\n",
       " 47: ['cm 2'],\n",
       " 180: ['pc 4'],\n",
       " 9: ['ot 9'],\n",
       " 197: ['ab 5'],\n",
       " 214: ['pc 6'],\n",
       " 231: ['ot 7']}"
      ]
     },
     "execution_count": 59,
     "metadata": {},
     "output_type": "execute_result"
    }
   ],
   "source": [
    "boxes"
   ]
  },
  {
   "cell_type": "code",
   "execution_count": 60,
   "id": "a4d94066",
   "metadata": {},
   "outputs": [
    {
     "data": {
      "text/plain": [
       "30"
      ]
     },
     "execution_count": 60,
     "metadata": {},
     "output_type": "execute_result"
    }
   ],
   "source": [
    "hashmap(\"rn=1\")"
   ]
  },
  {
   "cell_type": "code",
   "execution_count": null,
   "id": "8b5b7ee2",
   "metadata": {},
   "outputs": [],
   "source": []
  }
 ],
 "metadata": {
  "kernelspec": {
   "display_name": "Python 3",
   "language": "python",
   "name": "python3"
  },
  "language_info": {
   "codemirror_mode": {
    "name": "ipython",
    "version": 3
   },
   "file_extension": ".py",
   "mimetype": "text/x-python",
   "name": "python",
   "nbconvert_exporter": "python",
   "pygments_lexer": "ipython3",
   "version": "3.8.8"
  }
 },
 "nbformat": 4,
 "nbformat_minor": 5
}
